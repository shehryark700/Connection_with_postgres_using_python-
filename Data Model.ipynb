{
 "cells": [
  {
   "cell_type": "code",
   "execution_count": 2,
   "id": "d6db1423",
   "metadata": {},
   "outputs": [],
   "source": [
    "import psycopg2"
   ]
  },
  {
   "cell_type": "code",
   "execution_count": 5,
   "id": "50086161",
   "metadata": {},
   "outputs": [],
   "source": [
    "#connection with database\n",
    "try:\n",
    "    conn = psycopg2.connect(\"host=127.0.0.1 dbname=postgres user=postgres password=postgres\")\n",
    "except psycopg2.Error as e:\n",
    "    print(\"connectiion failed\")\n",
    "    print(e)"
   ]
  },
  {
   "cell_type": "code",
   "execution_count": 7,
   "id": "ba9c0780",
   "metadata": {},
   "outputs": [],
   "source": [
    "#use connection to get cursor for query executiion\n",
    "try:\n",
    "    cur = conn.cursor()\n",
    "except psycopg2.Error as e:\n",
    "    print(\"cursosr failed\")\n",
    "    print(e)"
   ]
  },
  {
   "cell_type": "code",
   "execution_count": 8,
   "id": "6eb3925e",
   "metadata": {},
   "outputs": [],
   "source": [
    "#set autocommit true so that we don't need conn.commit() for each query\n",
    "conn.set_session(autocommit=True)"
   ]
  },
  {
   "cell_type": "code",
   "execution_count": 9,
   "id": "fdc87b4b",
   "metadata": {},
   "outputs": [],
   "source": [
    "#create database by using execute method it takes query as argument\n",
    "try:\n",
    "    cur.execute(\"CREATE DATABASE myfirstdb\")\n",
    "except psycopg2.Error as e:\n",
    "    print(e)"
   ]
  },
  {
   "cell_type": "code",
   "execution_count": 11,
   "id": "0c33f643",
   "metadata": {},
   "outputs": [],
   "source": [
    "#use the close method to stop the current connection and reconnect with your database name and get a new cursor\n",
    "try:\n",
    "    conn.close()\n",
    "except psycopg2.Error as e:\n",
    "    print(e)\n",
    "    \n",
    "try:\n",
    "    conn = psycopg2.connect(\"host=127.0.0.1 dbname=myfirstdb user=postgres password=postgres\")\n",
    "except psycopg2.Error as e:\n",
    "    print(\"connectiion failed\")\n",
    "    print(e)\n",
    "    \n",
    "try:\n",
    "    cur = conn.cursor()\n",
    "except psycopg2.Error as e:\n",
    "    print(\"cursosr failed\")\n",
    "    print(e)\n",
    "\n",
    "conn.set_session(autocommit=True)"
   ]
  },
  {
   "cell_type": "code",
   "execution_count": 12,
   "id": "519c8ee3",
   "metadata": {},
   "outputs": [],
   "source": [
    "#create table in myfirstdb database along with columns name\n",
    "try:\n",
    "    cur.execute(\"CREATE TABLE students(student_id int,name varchar,age int,gender varchar,subject varchar,marks int);\")\n",
    "except psycopg2.Error as e:\n",
    "    print(\"error creating table\")\n",
    "    print(e)"
   ]
  },
  {
   "cell_type": "code",
   "execution_count": 13,
   "id": "907cb09a",
   "metadata": {},
   "outputs": [],
   "source": [
    "#enter values in given columns\n",
    "try:\n",
    "    cur.execute(\"INSERT INTO students(student_id,name,age,gender,subject,marks)\\\n",
    "    VALUES(%s,%s,%s,%s,%s,%s)\",(1,\"shehry\",23,\"male\",\"python\",85))\n",
    "except psycopg2.Error as e:\n",
    "    print(\"error inserting values into columns\")\n",
    "    print(e)\n",
    "    \n",
    "try:\n",
    "    cur.execute(\"INSERT INTO students(student_id,name,age,gender,subject,marks)\\\n",
    "    VALUES(%s,%s,%s,%s,%s,%s)\",(2,\"fatima\",22,\"female\",\"python\",86))\n",
    "except psycopg2.Error as e:\n",
    "    print(\"error inserting values into columns\")\n",
    "    print(e)"
   ]
  },
  {
   "cell_type": "code",
   "execution_count": 27,
   "id": "1950a58f",
   "metadata": {},
   "outputs": [
    {
     "name": "stdout",
     "output_type": "stream",
     "text": [
      "(1, 'shehry', 23, 'male', 'python', 85)\n",
      "(2, 'fatima', 22, 'female', 'python', 86)\n"
     ]
    }
   ],
   "source": [
    "#check the data we entered\n",
    "try:\n",
    "    cur.execute(\"SELECT * FROM students;\")\n",
    "except psycopg2.Error as e:\n",
    "    print(\"error occured in fetch query\")\n",
    "    print(e)\n",
    "    \n",
    "row = cur.fetchone()\n",
    "\n",
    "while row:\n",
    "    print(row)\n",
    "    row = cur.fetchone()"
   ]
  },
  {
   "cell_type": "code",
   "execution_count": 28,
   "id": "4a5de59f",
   "metadata": {},
   "outputs": [],
   "source": [
    "#close the connection and cursor\n",
    "cur.close()\n",
    "conn.close()"
   ]
  },
  {
   "cell_type": "code",
   "execution_count": null,
   "id": "6ab1d333",
   "metadata": {},
   "outputs": [],
   "source": []
  }
 ],
 "metadata": {
  "kernelspec": {
   "display_name": "Python 3",
   "language": "python",
   "name": "python3"
  },
  "language_info": {
   "codemirror_mode": {
    "name": "ipython",
    "version": 3
   },
   "file_extension": ".py",
   "mimetype": "text/x-python",
   "name": "python",
   "nbconvert_exporter": "python",
   "pygments_lexer": "ipython3",
   "version": "3.8.8"
  }
 },
 "nbformat": 4,
 "nbformat_minor": 5
}
